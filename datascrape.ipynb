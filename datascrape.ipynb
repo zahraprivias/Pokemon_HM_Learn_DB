{
 "cells": [
  {
   "cell_type": "code",
   "execution_count": 33,
   "metadata": {},
   "outputs": [],
   "source": [
    "import requests\n"
   ]
  },
  {
   "cell_type": "code",
   "execution_count": 71,
   "metadata": {},
   "outputs": [],
   "source": [
    "import pandas"
   ]
  },
  {
   "cell_type": "code",
   "execution_count": 34,
   "metadata": {},
   "outputs": [],
   "source": [
    "from bs4 import BeautifulSoup"
   ]
  },
  {
   "cell_type": "code",
   "execution_count": 35,
   "metadata": {},
   "outputs": [],
   "source": [
    "url = \"https://pokemondb.net/black-white/hms\""
   ]
  },
  {
   "cell_type": "code",
   "execution_count": 36,
   "metadata": {},
   "outputs": [],
   "source": [
    "response = requests.get(url)"
   ]
  },
  {
   "cell_type": "code",
   "execution_count": 37,
   "metadata": {},
   "outputs": [],
   "source": [
    "response = response.content"
   ]
  },
  {
   "cell_type": "code",
   "execution_count": 38,
   "metadata": {},
   "outputs": [],
   "source": [
    "soup = BeautifulSoup(response, 'html.parser')"
   ]
  },
  {
   "cell_type": "code",
   "execution_count": 61,
   "metadata": {},
   "outputs": [],
   "source": [
    "tableHead = soup.thead"
   ]
  },
  {
   "cell_type": "code",
   "execution_count": 64,
   "metadata": {},
   "outputs": [],
   "source": [
    "tableBody = soup.tbody"
   ]
  },
  {
   "cell_type": "code",
   "execution_count": null,
   "metadata": {},
   "outputs": [],
   "source": [
    "row_headers = []\n",
    "for x in tableHead.find_all('tr'):\n",
    "    for y in x.find_all('th'):\n",
    "        row_headers.append(y.text)\n",
    "row_headers"
   ]
  },
  {
   "cell_type": "code",
   "execution_count": null,
   "metadata": {},
   "outputs": [],
   "source": [
    "tableValues = []\n",
    "for x in tableBody.find_all('tr')[1:]:\n",
    "    td_tags = x.find_all('td')\n",
    "    td_val = []\n",
    "    #get the Y and N values\n",
    "    for y in td_tags:\n",
    "        #ignore the data-filter-value value for columns 'Dex #' and 'Nat'l #'\n",
    "        if 'data-filter-value' in y.attrs and 'cell-num' not in y['class']:\n",
    "            td_val.append(y['data-filter-value'])\n",
    "        else:\n",
    "            td_val.append(y.get_text(strip=True))\n",
    "    tableValues.append(td_val)\n",
    "tableValues"
   ]
  },
  {
   "cell_type": "code",
   "execution_count": 78,
   "metadata": {},
   "outputs": [],
   "source": [
    "df = pandas.DataFrame(tableValues, columns=row_headers)\n",
    "df.to_csv(r\"D:\\A-Project\\pokemon hm learn bash\\pokemon_hm.csv\", index=False)"
   ]
  }
 ],
 "metadata": {
  "kernelspec": {
   "display_name": "Python 3",
   "language": "python",
   "name": "python3"
  },
  "language_info": {
   "codemirror_mode": {
    "name": "ipython",
    "version": 3
   },
   "file_extension": ".py",
   "mimetype": "text/x-python",
   "name": "python",
   "nbconvert_exporter": "python",
   "pygments_lexer": "ipython3",
   "version": "3.10.5"
  }
 },
 "nbformat": 4,
 "nbformat_minor": 2
}
